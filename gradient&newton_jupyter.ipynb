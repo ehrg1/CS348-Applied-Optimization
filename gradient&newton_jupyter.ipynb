{
  "cells": [
    {
      "cell_type": "markdown",
      "id": "367500c1",
      "metadata": {},
      "source": [
        "# Working with the CS348-Applied-Optimization Repository in Jupyter Notebook\n",
        "\n",
        "## Step 1: Clone the Repository into the Jupyter Notebook Environment\n",
        "\n",
        "In the first cell of your Jupyter notebook, clone the repository using the following command:"
      ]
    },
    {
      "cell_type": "code",
      "execution_count": null,
      "id": "0632b7b8-ab18-47d1-9658-3dcabe0a888e",
      "metadata": {
        "trusted": true
      },
      "outputs": [],
      "source": [
        "!git clone https://github.com/ehrg1/CS348-Applied-Optimization.git"
      ]
    },
    {
      "cell_type": "markdown",
      "id": "0f309830",
      "metadata": {},
      "source": [
        "## Step 2: Navigate to the Repository Folder\n",
        "\n",
        "After cloning the repository, you can list the files or change the directory to check the contents.\n",
        "\n",
        "### List Files:"
      ]
    },
    {
      "cell_type": "code",
      "execution_count": null,
      "id": "0db58935-d9c9-4659-91bb-0ff2d465dde2",
      "metadata": {
        "trusted": true
      },
      "outputs": [],
      "source": [
        "import os\n",
        "\n",
        "# List all files to confirm the repo is cloned\n",
        "os.listdir('CS348-Applied-Optimization')"
      ]
    },
    {
      "cell_type": "markdown",
      "id": "3bbf7117",
      "metadata": {},
      "source": [
        "## Step 3: Import Modules or Scripts from the Repository\n",
        "\n",
        "Once the repository is cloned, you can import the Python files and functions from it.\n",
        "\n",
        "For example, if you have a Python script named `optimization.py` within your repository, you can import the function(s) from it as follows:"
      ]
    },
    {
      "cell_type": "code",
      "execution_count": null,
      "id": "4f92a23e-06bb-483e-8583-019ee82f78e8",
      "metadata": {
        "trusted": true
      },
      "outputs": [],
      "source": [
        "# Importing functions from the repo\n",
        "from CS348_Applied_Optimization.optimization import some_function\n",
        "\n",
        "# Use the function\n",
        "result = some_function(args)\n",
        "print(result)"
      ]
    },
    {
      "cell_type": "markdown",
      "id": "fa5db6b4",
      "metadata": {},
      "source": [
        "## Step 4: Running Code or Analysis\n",
        "\n",
        "You can now interact with the repository’s code. If your repository contains optimization algorithms or data analysis functions, you can call those functions. Here's an example of how to call methods from the repository:\n",
        "\n",
        "### Example (if the repo contains a function for optimization):"
      ]
    },
    {
      "cell_type": "code",
      "execution_count": null,
      "id": "333620ee-ebbf-4a5d-a7ab-56437245c8f8",
      "metadata": {
        "trusted": true
      },
      "outputs": [],
      "source": [
        "# Import necessary functions from your repo\n",
        "from CS348_Applied_Optimization.optimization import gradient_descent, newtons_method\n",
        "\n",
        "# Example input for testing the optimization algorithms\n",
        "initial_guess = 10\n",
        "\n",
        "# Run Gradient Descent\n",
        "gd_path = gradient_descent(initial_guess, lr=0.1)\n",
        "print(\"Gradient Descent Path:\", gd_path)\n",
        "\n",
        "# Run Newton's Method\n",
        "newton_path = newtons_method(initial_guess)\n",
        "print(\"Newton's Method Path:\", newton_path)"
      ]
    },
    {
      "cell_type": "markdown",
      "id": "266a17a7",
      "metadata": {},
      "source": [
        "## Step 5: Visualize Results (if applicable)\n",
        "\n",
        "If your repository includes any visualization or plotting functions, such as results from optimization, you can display them using `matplotlib`."
      ]
    },
    {
      "cell_type": "code",
      "execution_count": null,
      "id": "2ded00a2-39ff-48eb-bb66-93f0b52d6450",
      "metadata": {
        "trusted": true
      },
      "outputs": [],
      "source": [
        "import matplotlib.pyplot as plt\n",
        "\n",
        "# Plot results (example)\n",
        "plt.plot(gd_path, label=\"Gradient Descent\")\n",
        "plt.plot(newton_path, label=\"Newton's Method\")\n",
        "plt.xlabel('Iteration')\n",
        "plt.ylabel('Value of x')\n",
        "plt.legend()\n",
        "plt.title('Optimization Paths')\n",
        "plt.show()"
      ]
    },
    {
      "cell_type": "markdown",
      "id": "c299b6c5",
      "metadata": {},
      "source": [
        "## Full Example Notebook Workflow:\n",
        "\n",
        "### Cell 1: Clone the repository"
      ]
    },
    {
      "cell_type": "code",
      "execution_count": null,
      "id": "f12424d5-b5ab-4406-b2af-4354b10d21e2",
      "metadata": {
        "trusted": true
      },
      "outputs": [],
      "source": [
        "!git clone https://github.com/ehrg1/CS348-Applied-Optimization.git"
      ]
    },
    {
      "cell_type": "markdown",
      "id": "de931797",
      "metadata": {},
      "source": [
        "### Cell 2: List the files in the repository to verify the clone"
      ]
    },
    {
      "cell_type": "code",
      "execution_count": null,
      "id": "e1e8be91-b180-4ad4-96ea-302d387184e6",
      "metadata": {
        "trusted": true
      },
      "outputs": [],
      "source": [
        "import os\n",
        "\n",
        "# List files in the repository folder\n",
        "os.listdir('CS348-Applied-Optimization')"
      ]
    },
    {
      "cell_type": "markdown",
      "id": "b1936085",
      "metadata": {},
      "source": [
        "### Cell 3: Import necessary functions from the repo"
      ]
    },
    {
      "cell_type": "code",
      "execution_count": null,
      "id": "297a6d0c-8cc4-43df-bef1-5d3fa74d1fa0",
      "metadata": {
        "trusted": true
      },
      "outputs": [],
      "source": [
        "# Import functions from the optimization script\n",
        "from CS348_Applied_Optimization.optimization import gradient_descent, newtons_method"
      ]
    },
    {
      "cell_type": "markdown",
      "id": "da7d46c6",
      "metadata": {},
      "source": [
        "### Cell 4: Test the functions (example)"
      ]
    },
    {
      "cell_type": "code",
      "execution_count": null,
      "id": "25c25880-4a8c-4d13-bf46-76b02041d898",
      "metadata": {
        "trusted": true
      },
      "outputs": [],
      "source": [
        "# Example input for testing\n",
        "initial_guess = 10\n",
        "\n",
        "# Run Gradient Descent\n",
        "gd_path = gradient_descent(initial_guess, lr=0.1)\n",
        "print(\"Gradient Descent Path:\", gd_path)\n",
        "\n",
        "# Run Newton's Method\n",
        "newton_path = newtons_method(initial_guess)\n",
        "print(\"Newton's Method Path:\", newton_path)"
      ]
    },
    {
      "cell_type": "markdown",
      "id": "81b55d57",
      "metadata": {},
      "source": [
        "### Cell 5: Visualize the results"
      ]
    },
    {
      "cell_type": "code",
      "execution_count": null,
      "id": "7c674cc6-89ca-489c-96fb-a918ccdb9651",
      "metadata": {
        "trusted": true
      },
      "outputs": [],
      "source": [
        "import matplotlib.pyplot as plt\n",
        "\n",
        "# Plot the optimization paths\n",
        "plt.plot(gd_path, label=\"Gradient Descent\")\n",
        "plt.plot(newton_path, label=\"Newton's Method\")\n",
        "plt.xlabel('Iteration')\n",
        "plt.ylabel('Value of x')\n",
        "plt.legend()\n",
        "plt.title('Optimization Paths')\n",
        "plt.show()"
      ]
    },
    {
      "cell_type": "markdown",
      "id": "fa179988",
      "metadata": {},
      "source": [
        "## Summary:\n",
        "\n",
        "1. **Clone the repo** using `!git clone`.\n",
        "2. **Import functions** from the repository, like `gradient_descent`, `newtons_method`, or any other functions.\n",
        "3. **Run analysis or optimization** in the notebook.\n",
        "4. **Visualize results** (if applicable).\n"
      ]
    }
  ],
  "metadata": {
    "kernelspec": {
      "display_name": "Python 3",
      "language": "python",
      "name": "python3"
    },
    "language_info": {
      "name": "python",
      "version": "3.13.1"
    }
  },
  "nbformat": 4,
  "nbformat_minor": 5
}
